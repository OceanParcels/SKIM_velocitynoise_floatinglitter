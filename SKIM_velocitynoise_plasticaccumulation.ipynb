{
 "cells": [
  {
   "cell_type": "code",
   "execution_count": 1,
   "metadata": {},
   "outputs": [],
   "source": [
    "%matplotlib inline\n",
    "from parcels import FieldSet, Field, ParticleSet, AdvectionRK4, JITParticle, ErrorCode, VectorField, Variable\n",
    "from datetime import timedelta as delta\n",
    "from glob import glob\n",
    "import numpy as np\n",
    "import xarray as xr"
   ]
  },
  {
   "cell_type": "code",
   "execution_count": 4,
   "metadata": {},
   "outputs": [
    {
     "data": {
      "text/plain": [
       "864000"
      ]
     },
     "execution_count": 4,
     "metadata": {},
     "output_type": "execute_result"
    }
   ],
   "source": [
    "ddir = '/data2/imau/oceanparcels/hydrodynamic_data/NEMO-MEDUSA/ORCA025-N006/'\n",
    "ufiles = sorted(glob(ddir+'means/ORCA025-N06_*d05U.nc'))\n",
    "vfiles = [u.replace('05U.nc', '05V.nc') for u in ufiles]\n",
    "meshfile = glob(ddir+'domain/coordinates.nc')\n",
    "\n",
    "nemofiles = {'U': {'lon': meshfile, 'lat': meshfile, 'data': ufiles},\n",
    "             'V': {'lon': meshfile, 'lat': meshfile, 'data': vfiles},\n",
    "             'Mask': {'lon': meshfile, 'lat': meshfile, 'data': ddir+'domain/mask.nc'}}\n",
    "nemovariables = {'U': 'uo', 'V': 'vo', 'Mask': 'tmask'}\n",
    "nemodimensions = {'lon': 'glamf', 'lat': 'gphif', 'time': 'time_counter'}\n",
    "fieldset = FieldSet.from_nemo(nemofiles, nemovariables, nemodimensions)\n",
    "\n",
    "fieldset.computeTimeChunk(0, 1)"
   ]
  },
  {
   "cell_type": "code",
   "execution_count": 5,
   "metadata": {},
   "outputs": [
    {
     "name": "stderr",
     "output_type": "stream",
     "text": [
      "WARNING: Casting time data to np.float64\n"
     ]
    }
   ],
   "source": [
    "variables = {'Unemo_unbeach': 'unBeachU', 'Vnemo_unbeach': 'unBeachV'}\n",
    "dimensions = {'lon': 'glamf', 'lat': 'gphif'}\n",
    "# File created from https://github.com/OceanParcels/Parcelsv2.0PaperNorthSeaScripts/blob/master/preprocess/unbeach_Cfield.py\n",
    "fieldsetUnBeach = FieldSet.from_nemo(ddir+'domain/ORCA*_unbeaching_vel.nc', variables, dimensions, tracer_interp_method='cgrid_velocity')\n",
    "fieldset.add_field(fieldsetUnBeach.Unemo_unbeach)\n",
    "fieldset.add_field(fieldsetUnBeach.Vnemo_unbeach)\n",
    "\n",
    "UVunbeach = VectorField('UVunbeach', fieldset.Unemo_unbeach, fieldset.Vnemo_unbeach)\n",
    "fieldset.add_vector_field(UVunbeach)"
   ]
  },
  {
   "cell_type": "code",
   "execution_count": 10,
   "metadata": {},
   "outputs": [],
   "source": [
    "def UnBeaching(particle, fieldset, time):\n",
    "    m = fieldset.Mask[0, particle.depth, particle.lat, particle.lon]\n",
    "    if m < 0.99:\n",
    "        (ub, vb) = fieldset.UVunbeach[time, particle.depth, particle.lat, particle.lon]\n",
    "        particle.lon += ub * particle.dt\n",
    "        particle.lat += vb * particle.dt\n",
    "\n",
    "def DeleteParticle(particle, fieldset, time):\n",
    "    particle.delete()"
   ]
  },
  {
   "cell_type": "code",
   "execution_count": 26,
   "metadata": {},
   "outputs": [
    {
     "name": "stdout",
     "output_type": "stream",
     "text": [
      "9977 particle locations\n"
     ]
    }
   ],
   "source": [
    "fieldset.check_complete()\n",
    "lons = []\n",
    "lats = []\n",
    "for lon in np.arange(360-80, 350, 0.5):\n",
    "    for lat in np.arange(10, 50, 0.5):\n",
    "        if fieldset.Mask[0, 0, lat, lon] > 0.99:\n",
    "            lons.append(lon)\n",
    "            lats.append(lat)\n",
    "print('%d particle locations' % len(lons))"
   ]
  },
  {
   "cell_type": "code",
   "execution_count": 28,
   "metadata": {},
   "outputs": [
    {
     "name": "stdout",
     "output_type": "stream",
     "text": [
      "/scratch/evansebille/skimrmsdvel_asfield_20cms.nc\n"
     ]
    },
    {
     "name": "stderr",
     "output_type": "stream",
     "text": [
      "INFO: Compiled JITParticleAdvectionRK4UnBeaching ==> /tmp/parcels-24236/39731944c1853328bfe6edc3479f83d9.so\n",
      "INFO: Temporary output files are stored in /scratch/evansebille/out-SFGBXWJD.\n",
      "INFO: You can use \"parcels_convert_npydir_to_netcdf /scratch/evansebille/out-SFGBXWJD\" to convert these to a NetCDF file during the run.\n",
      "100% (94262400.0 of 94262400.0) |########| Elapsed Time: 0:14:40 Time:  0:14:40\n"
     ]
    },
    {
     "name": "stdout",
     "output_type": "stream",
     "text": [
      "/scratch/evansebille/skimrmsdvel_asfield_30cms.nc\n"
     ]
    },
    {
     "name": "stderr",
     "output_type": "stream",
     "text": [
      "INFO: Compiled JITParticleAdvectionRK4UnBeaching ==> /tmp/parcels-24236/28b9ad32ffc2ff8a8b8a06edd7b3d90f.so\n",
      "INFO: Temporary output files are stored in /scratch/evansebille/out-NEUEURAT.\n",
      "INFO: You can use \"parcels_convert_npydir_to_netcdf /scratch/evansebille/out-NEUEURAT\" to convert these to a NetCDF file during the run.\n",
      "100% (94262400.0 of 94262400.0) |########| Elapsed Time: 0:13:26 Time:  0:13:26\n"
     ]
    }
   ],
   "source": [
    "for rmsdvel in [0, 5, 7, 10, 15, 20, 30, 99]:\n",
    "    fname = \"/scratch/evansebille/skimrmsdvel_asfield_%.2dcms.nc\" % rmsdvel\n",
    "    print(fname)\n",
    "\n",
    "    pset = ParticleSet(fieldset=fieldset, pclass=JITParticle, lon=lons, lat=lats)\n",
    "    fieldset.rmsdvel = rmsdvel/100.\n",
    "\n",
    "    def compute(fieldset):\n",
    "        # Adding random field\n",
    "        for f in [fieldset.U, fieldset.V]:\n",
    "            for tind in f.loaded_time_indices:\n",
    "                f.data[tind, :] = f.data[tind, :] + np.random.normal(0, fieldset.rmsdvel, (f.data.shape[-2], f.data.shape[-1]))\n",
    "\n",
    "    fieldset.compute_on_defer = compute\n",
    "\n",
    "    outfile = pset.ParticleFile(name=fname, outputdt=delta(days=5))\n",
    "\n",
    "    pset.execute(AdvectionRK4+pset.Kernel(UnBeaching), dt=delta(hours=1), output_file=outfile,\n",
    "                 recovery={ErrorCode.ErrorOutOfBounds: DeleteParticle})\n",
    "    outfile.close()"
   ]
  },
  {
   "cell_type": "code",
   "execution_count": null,
   "metadata": {},
   "outputs": [],
   "source": []
  }
 ],
 "metadata": {
  "kernelspec": {
   "display_name": "Python 3",
   "language": "python",
   "name": "python3"
  },
  "language_info": {
   "codemirror_mode": {
    "name": "ipython",
    "version": 3
   },
   "file_extension": ".py",
   "mimetype": "text/x-python",
   "name": "python",
   "nbconvert_exporter": "python",
   "pygments_lexer": "ipython3",
   "version": "3.7.3"
  }
 },
 "nbformat": 4,
 "nbformat_minor": 2
}
