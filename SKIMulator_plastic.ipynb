{
 "cells": [
  {
   "cell_type": "code",
   "execution_count": 1,
   "metadata": {},
   "outputs": [],
   "source": [
    "%matplotlib inline\n",
    "from parcels import FieldSet, Field, ParticleSet, AdvectionRK4, JITParticle, ErrorCode, VectorField, Variable\n",
    "from datetime import timedelta as delta\n",
    "from glob import glob\n",
    "import numpy as np\n",
    "import xarray as xr"
   ]
  },
  {
   "cell_type": "code",
   "execution_count": 2,
   "metadata": {},
   "outputs": [
    {
     "name": "stderr",
     "output_type": "stream",
     "text": [
      "WARNING: Casting depth data to np.float32\n"
     ]
    }
   ],
   "source": [
    "ddir = '/science/projects/oceanparcels/SKIMulator/V4.0/Global_l2d/'\n",
    "files = sorted(glob(ddir+'WW3_GL_metop_2019_6b_A__l2d*.nc'))\n",
    "\n",
    "dimensions = {'lon': 'lon', 'lat': 'lat', 'time': 'time'}\n",
    "variables = {}\n",
    "variables['no_err'] = {'U': 'ux_noerr', 'V': 'uy_noerr'}\n",
    "variables['obs'] = {'U': 'ux_obs', 'V': 'uy_obs'}\n",
    "\n",
    "fsets = ['no_err', 'obs']\n",
    "fieldset = {}\n",
    "for f in fsets:\n",
    "    fieldset[f] = FieldSet.from_netcdf(files, variables[f], dimensions) \n",
    "\n",
    "    fieldset[f].computeTimeChunk(0, 1)"
   ]
  },
  {
   "cell_type": "code",
   "execution_count": 3,
   "metadata": {},
   "outputs": [
    {
     "name": "stderr",
     "output_type": "stream",
     "text": [
      "WARNING: Casting lon data to np.float32\n",
      "WARNING: Casting lat data to np.float32\n",
      "WARNING: Casting time data to np.float64\n"
     ]
    }
   ],
   "source": [
    "variables = {'U_unbeach': 'unBeachU', 'V_unbeach': 'unBeachV', 'Mask': 'Mask'}\n",
    "dimensions = {'lon': 'lon', 'lat': 'lat'}\n",
    "fieldsetUnBeach = FieldSet.from_netcdf('skimulator_unbeaching_vel.nc', variables, dimensions)\n",
    "\n",
    "for f in fsets:\n",
    "    fieldset[f].add_field(fieldsetUnBeach.U_unbeach)\n",
    "    fieldset[f].add_field(fieldsetUnBeach.V_unbeach)\n",
    "    fieldset[f].add_field(fieldsetUnBeach.Mask)\n",
    "\n",
    "    UVunbeach = VectorField('UVunbeach', fieldset[f].U_unbeach, fieldset[f].V_unbeach)\n",
    "    fieldset[f].add_vector_field(UVunbeach)"
   ]
  },
  {
   "cell_type": "code",
   "execution_count": 4,
   "metadata": {},
   "outputs": [],
   "source": [
    "def UnBeaching(particle, fieldset, time):\n",
    "    m = fieldset.Mask[0, particle.depth, particle.lat, particle.lon]\n",
    "    if m < 0.99:\n",
    "        (ub, vb) = fieldset.UVunbeach[time, particle.depth, particle.lat, particle.lon]\n",
    "        particle.lon += ub * particle.dt\n",
    "        particle.lat += vb * particle.dt\n",
    "\n",
    "def DeleteParticle(particle, fieldset, time):\n",
    "    particle.delete()"
   ]
  },
  {
   "cell_type": "code",
   "execution_count": 6,
   "metadata": {},
   "outputs": [
    {
     "name": "stdout",
     "output_type": "stream",
     "text": [
      "10317 particle locations\n"
     ]
    }
   ],
   "source": [
    "for f in fsets:\n",
    "    fieldset[f].check_complete()\n",
    "\n",
    "lons = []\n",
    "lats = []\n",
    "for lon in np.arange(360-80, 350, 0.5):\n",
    "    for lat in np.arange(10, 50, 0.5):\n",
    "        if fieldset['no_err'].Mask[0, 0, lat, lon] > 0.99:\n",
    "            lons.append(lon)\n",
    "            lats.append(lat)\n",
    "print('%d particle locations' % len(lons))"
   ]
  },
  {
   "cell_type": "code",
   "execution_count": 7,
   "metadata": {},
   "outputs": [
    {
     "name": "stdout",
     "output_type": "stream",
     "text": [
      "/scratch/evansebille/skimulator_no_err.nc\n"
     ]
    },
    {
     "name": "stderr",
     "output_type": "stream",
     "text": [
      "INFO: Compiled JITParticleAdvectionRK4UnBeaching ==> /tmp/parcels-24236/189064886c94ab33638e433da881bd52.so\n",
      "INFO: Temporary output files are stored in /scratch/evansebille/out-RENNQXVE.\n",
      "INFO: You can use \"parcels_convert_npydir_to_netcdf /scratch/evansebille/out-RENNQXVE\" to convert these to a NetCDF file during the run.\n",
      "100% (2851200.0 of 2851200.0) |##########| Elapsed Time: 0:00:58 Time:  0:00:58\n"
     ]
    },
    {
     "name": "stdout",
     "output_type": "stream",
     "text": [
      "/scratch/evansebille/skimulator_obs.nc\n"
     ]
    },
    {
     "name": "stderr",
     "output_type": "stream",
     "text": [
      "INFO: Compiled JITParticleAdvectionRK4UnBeaching ==> /tmp/parcels-24236/453e592b0701ab49bcde4d8d4356e2c8.so\n",
      "INFO: Temporary output files are stored in /scratch/evansebille/out-QRKZRTHQ.\n",
      "INFO: You can use \"parcels_convert_npydir_to_netcdf /scratch/evansebille/out-QRKZRTHQ\" to convert these to a NetCDF file during the run.\n",
      "100% (2851200.0 of 2851200.0) |##########| Elapsed Time: 0:00:57 Time:  0:00:57\n"
     ]
    }
   ],
   "source": [
    "for f in fsets:\n",
    "    fname = \"/scratch/evansebille/skimulator_%s.nc\" % f\n",
    "    print(fname)\n",
    "\n",
    "    pset = ParticleSet(fieldset=fieldset[f], pclass=JITParticle, lon=lons, lat=lats)\n",
    "\n",
    "    outfile = pset.ParticleFile(name=fname, outputdt=delta(days=5))\n",
    "\n",
    "    pset.execute(AdvectionRK4+pset.Kernel(UnBeaching), dt=delta(hours=1), output_file=outfile,\n",
    "                 recovery={ErrorCode.ErrorOutOfBounds: DeleteParticle})\n",
    "    outfile.close()"
   ]
  },
  {
   "cell_type": "code",
   "execution_count": null,
   "metadata": {},
   "outputs": [],
   "source": []
  }
 ],
 "metadata": {
  "kernelspec": {
   "display_name": "Python 2",
   "language": "python",
   "name": "python2"
  },
  "language_info": {
   "codemirror_mode": {
    "name": "ipython",
    "version": 2
   },
   "file_extension": ".py",
   "mimetype": "text/x-python",
   "name": "python",
   "nbconvert_exporter": "python",
   "pygments_lexer": "ipython2",
   "version": "2.7.15"
  }
 },
 "nbformat": 4,
 "nbformat_minor": 2
}
